{
 "cells": [
  {
   "cell_type": "code",
   "execution_count": 3,
   "id": "68400d00",
   "metadata": {},
   "outputs": [],
   "source": [
    "from fuzzywuzzy import fuzz\n",
    "from fuzzywuzzy import process"
   ]
  },
  {
   "cell_type": "markdown",
   "id": "1f93327a",
   "metadata": {},
   "source": [
    "# Функционал\n"
   ]
  },
  {
   "cell_type": "code",
   "execution_count": 5,
   "id": "ffad2f8f",
   "metadata": {},
   "outputs": [
    {
     "name": "stdout",
     "output_type": "stream",
     "text": [
      "100\n"
     ]
    }
   ],
   "source": [
    "#1. Самое обычное сравнение:\n",
    "a = fuzz.ratio('Привет Yan', 'Привет Yan')\n",
    "print(a)"
   ]
  },
  {
   "cell_type": "code",
   "execution_count": 6,
   "id": "f6d25097",
   "metadata": {},
   "outputs": [
    {
     "name": "stdout",
     "output_type": "stream",
     "text": [
      "84\n"
     ]
    }
   ],
   "source": [
    "#Изменяем пару символов и получаем другое число\n",
    "a = fuzz.ratio('Привет Yan', 'Привт Yon')\n",
    "print(a)"
   ]
  },
  {
   "cell_type": "raw",
   "id": "1f44ed8a",
   "metadata": {},
   "source": [
    "# 2. Частичное сравнение"
   ]
  },
  {
   "cell_type": "code",
   "execution_count": 7,
   "id": "89a88ab2",
   "metadata": {},
   "outputs": [
    {
     "name": "stdout",
     "output_type": "stream",
     "text": [
      "100\n"
     ]
    }
   ],
   "source": [
    "#Данный вид сравнения во всей второй строке ищет совпадение с начальной, например:\n",
    "a = fuzz.partial_ratio('Привет Yan', 'Привет Yan!')\n",
    "print(a)"
   ]
  },
  {
   "cell_type": "code",
   "execution_count": 8,
   "id": "cb48812b",
   "metadata": {},
   "outputs": [
    {
     "name": "stdout",
     "output_type": "stream",
     "text": [
      "100\n"
     ]
    }
   ],
   "source": [
    "a = fuzz.partial_ratio('Привет Yan', 'Love myself, Привет Yan')\n",
    "print(a)"
   ]
  },
  {
   "cell_type": "code",
   "execution_count": 9,
   "id": "2e5316ec",
   "metadata": {},
   "outputs": [
    {
     "name": "stdout",
     "output_type": "stream",
     "text": [
      "90\n"
     ]
    }
   ],
   "source": [
    "a = fuzz.partial_ratio('Привет Yan', 'Love myself, привет Yan')\n",
    "print(a)"
   ]
  },
  {
   "cell_type": "markdown",
   "id": "9a344508",
   "metadata": {},
   "source": [
    "3. Сравнение по токену"
   ]
  },
  {
   "cell_type": "code",
   "execution_count": 10,
   "id": "8e277f3c",
   "metadata": {},
   "outputs": [
    {
     "name": "stdout",
     "output_type": "stream",
     "text": [
      "100\n"
     ]
    }
   ],
   "source": [
    "#1) Token Sort Ratio\n",
    "#Слова сравниваются друг с другом, независимо от регистра или порядка\n",
    "a = fuzz.token_sort_ratio('Привет our Yan', 'Yan our Привет')\n",
    "print(a)"
   ]
  },
  {
   "cell_type": "code",
   "execution_count": 11,
   "id": "ba710784",
   "metadata": {},
   "outputs": [
    {
     "name": "stdout",
     "output_type": "stream",
     "text": [
      "80\n"
     ]
    }
   ],
   "source": [
    "a = fuzz.token_sort_ratio('Привет our Yan', 'Yan our lovely Привет')\n",
    "print(a)"
   ]
  },
  {
   "cell_type": "code",
   "execution_count": 12,
   "id": "fd8efcbb",
   "metadata": {},
   "outputs": [
    {
     "name": "stdout",
     "output_type": "stream",
     "text": [
      "100\n"
     ]
    }
   ],
   "source": [
    "a = fuzz.token_sort_ratio('1 6 Привет our Yan', '1 Yan our 6 ПриВЕт')\n",
    "print(a)"
   ]
  },
  {
   "cell_type": "code",
   "execution_count": 13,
   "id": "6e265a0d",
   "metadata": {},
   "outputs": [
    {
     "name": "stdout",
     "output_type": "stream",
     "text": [
      "100\n"
     ]
    }
   ],
   "source": [
    "#2) Token Set Ratio\n",
    "#Это сравнение, в отличие от прошлого, приравнивает строки, если их отличие заключается в повторении слов.\n",
    "a = fuzz.token_set_ratio('Привет our Yan', 'Yan Yan our our our ПриВЕт')\n",
    "print(a)"
   ]
  },
  {
   "cell_type": "markdown",
   "id": "4f9624c4",
   "metadata": {},
   "source": [
    "4. Продвинутое обычное сравнение"
   ]
  },
  {
   "cell_type": "code",
   "execution_count": 14,
   "id": "e72a854e",
   "metadata": {},
   "outputs": [
    {
     "name": "stdout",
     "output_type": "stream",
     "text": [
      "100\n"
     ]
    }
   ],
   "source": [
    "a = fuzz.WRatio('Привет our Yan', '!ПриВЕт our Yan!')\n",
    "print(a)"
   ]
  },
  {
   "cell_type": "code",
   "execution_count": 15,
   "id": "a4fa0b30",
   "metadata": {},
   "outputs": [
    {
     "name": "stdout",
     "output_type": "stream",
     "text": [
      "97\n"
     ]
    }
   ],
   "source": [
    "a = fuzz.WRatio('Привет our Yan', '!ПриВЕт, our Yan!')\n",
    "print(a)"
   ]
  },
  {
   "cell_type": "markdown",
   "id": "3b4d36f2",
   "metadata": {},
   "source": [
    "5. Работа со списком"
   ]
  },
  {
   "cell_type": "code",
   "execution_count": 16,
   "id": "1b711e42",
   "metadata": {},
   "outputs": [
    {
     "name": "stdout",
     "output_type": "stream",
     "text": [
      "[('Саров', 100), ('Самара', 55)]\n"
     ]
    }
   ],
   "source": [
    "city = [\"Москва\", \"Санкт-Петербург\", \"Саров\", \"Краснодар\", \"Воронеж\", \"Павлово\", \"Екатеринбург\", \"Орск\", \"Красногорск\", \"Красноярск\", \"Самара\"]\n",
    "a = process.extract(\"Саров\", city, limit=2)\n",
    "# Параметр limit по умолчанию имеет значение 5\n",
    "print(a)"
   ]
  },
  {
   "cell_type": "code",
   "execution_count": 17,
   "id": "78f5ff7a",
   "metadata": {},
   "outputs": [
    {
     "name": "stdout",
     "output_type": "stream",
     "text": [
      "('Красногорск', 90)\n"
     ]
    }
   ],
   "source": [
    "city = [\"Москва\", \"Санкт-Петербург\", \"Саров\", \"Краснодар\", \"Воронеж\", \"Павлово\", \"Екатеринбург\", \"Орск\", \"Красногорск\", \"Красноярск\", \"Самара\"]\n",
    "a = process.extractOne(\"Краногрск\", city)\n",
    "print(a)"
   ]
  },
  {
   "cell_type": "code",
   "execution_count": null,
   "id": "38c0ec20",
   "metadata": {},
   "outputs": [],
   "source": []
  }
 ],
 "metadata": {
  "kernelspec": {
   "display_name": "Python 3 (ipykernel)",
   "language": "python",
   "name": "python3"
  },
  "language_info": {
   "codemirror_mode": {
    "name": "ipython",
    "version": 3
   },
   "file_extension": ".py",
   "mimetype": "text/x-python",
   "name": "python",
   "nbconvert_exporter": "python",
   "pygments_lexer": "ipython3",
   "version": "3.11.3"
  }
 },
 "nbformat": 4,
 "nbformat_minor": 5
}
